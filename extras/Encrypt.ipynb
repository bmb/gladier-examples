{
 "cells": [
  {
   "cell_type": "markdown",
   "id": "0075ace4-c0f2-4e71-86c7-edcc29c6989b",
   "metadata": {
    "tags": []
   },
   "source": [
    "### Generic Imports"
   ]
  },
  {
   "cell_type": "code",
   "execution_count": null,
   "id": "a0e0c2dc-95c0-4a9b-91ea-c0d055b30b11",
   "metadata": {},
   "outputs": [],
   "source": [
    "from gladier import GladierBaseTool, GladierBaseClient, generate_flow_definition\n",
    "from pprint import pprint"
   ]
  },
  {
   "cell_type": "markdown",
   "id": "131531ba-a977-4fb3-9ffa-d01eb9352729",
   "metadata": {},
   "source": [
    "### Function that performs the encrypt operation"
   ]
  },
  {
   "cell_type": "code",
   "execution_count": null,
   "id": "003532ac-2535-4b06-99ef-ef813b604e90",
   "metadata": {},
   "outputs": [],
   "source": [
    "def encrypt(**data):\n",
    "    import os \n",
    "    from cryptography.fernet import Fernet\n",
    "    from cryptography.hazmat.primitives import hashes\n",
    "    from cryptography.hazmat.primitives.kdf.pbkdf2 import PBKDF2HMAC\n",
    "    from cryptography.hazmat.primitives.kdf.concatkdf import ConcatKDFHash\n",
    "    import base64\n",
    "\n",
    "    password = bytes(data['key'], 'utf-8')\n",
    "    # salt= b'\\00\\00\\00\\00\\00\\00\\00\\00\\00\\00\\00\\00\\00\\00\\00\\00'\n",
    "    # salt = os.urandom(16)\n",
    "    ckdf = ConcatKDFHash(algorithm=hashes.SHA256(),length=32,otherinfo=None,)\n",
    "    #kdf = PBKDF2HMAC(algorithm=hashes.SHA256(),length=32,salt=salt,iterations=100000)\n",
    "    key = base64.urlsafe_b64encode(ckdf.derive(password))\n",
    "    fernet = Fernet(key)\n",
    "    \n",
    "    infile= data['encrypt_input']\n",
    "    \n",
    "\n",
    "    if '~' in infile:\n",
    "        infile = os.path.expanduser(infile)\n",
    "    \n",
    "    outfile= infile+\".aes\"\n",
    "    \n",
    "    if os.path.isdir(infile):\n",
    "        raise Exception(\"Please input the path to a file or a tarred directory.\")\n",
    "\n",
    "    # opening the original file to encrypt\n",
    "    with open(infile, 'rb') as file:\n",
    "        original = file.read()\n",
    "        \n",
    "    # encrypting the file\n",
    "    encrypted = fernet.encrypt(original)\n",
    "    \n",
    "    # opening the file in write mode and \n",
    "    # writing the encrypted data\n",
    "    with open(outfile, 'wb+') as encrypted_file:\n",
    "        encrypted_file.write(encrypted)\n",
    "\n",
    "    return key"
   ]
  },
  {
   "cell_type": "markdown",
   "id": "19ead288-41e3-4553-9111-dcff89557ab2",
   "metadata": {},
   "source": [
    "### Creating a GladierBaseTool class for the tool"
   ]
  },
  {
   "cell_type": "code",
   "execution_count": null,
   "id": "fabc2c0b-9636-4ff2-8a35-adece4f1afec",
   "metadata": {},
   "outputs": [],
   "source": [
    "@generate_flow_definition\n",
    "class Encrypt(GladierBaseTool):\n",
    "    funcx_functions = [encrypt]\n",
    "    required_input = [\n",
    "        'encrypt_input',\n",
    "        'key', \n",
    "        'funcx_endpoint_compute'\n",
    "        ]"
   ]
  },
  {
   "cell_type": "markdown",
   "id": "1a988b70-b3ea-4d8e-898e-38819abd7c86",
   "metadata": {},
   "source": [
    "### Creating a Gladier Client class to run the flow"
   ]
  },
  {
   "cell_type": "code",
   "execution_count": null,
   "id": "815ea7cc-0105-447e-b819-8f7a569b9805",
   "metadata": {},
   "outputs": [],
   "source": [
    "@generate_flow_definition\n",
    "class EncryptGladier(GladierBaseClient):\n",
    "    gladier_tools = [Encrypt]"
   ]
  },
  {
   "cell_type": "markdown",
   "id": "6c4ef3f3-5e36-47fb-acbb-d95c4000cbc7",
   "metadata": {},
   "source": [
    "### Running the flow\n",
    "\n",
    "Enter the appropriate values for ```encrypt_input```, ```key```, and ```funcx_endpoint_compute```"
   ]
  },
  {
   "cell_type": "code",
   "execution_count": null,
   "id": "d0fd91eb-8dda-4dc2-8e92-3968d44735c3",
   "metadata": {},
   "outputs": [],
   "source": [
    "hello_cli = EncryptGladier()\n",
    "flow_input = {\n",
    "'input': {\n",
    "    #encrypt_input is the path to the file, key is the password (string), and funcx_endpoint_compute is the UUID of the func endpoint\n",
    "    'encrypt_input': ,\n",
    "    'key':'rohith',\n",
    "    'funcx_endpoint_compute': 'a43e4540-98ba-4784-ade1-357f0eb4ddc8',\n",
    "    }\n",
    "}\n",
    "\n",
    "# print(encrypt(flow_input))\n",
    "flow = hello_cli.run_flow(flow_input=flow_input)\n",
    "\n",
    "# Watch the progress, get the result.\n",
    "hello_cli.progress(flow['action_id'])\n",
    "pprint(hello_cli.get_status(flow['action_id']))"
   ]
  },
  {
   "cell_type": "code",
   "execution_count": null,
   "id": "0bfe6819-7654-49c2-a8f9-39348b43cdd0",
   "metadata": {},
   "outputs": [],
   "source": []
  }
 ],
 "metadata": {
  "kernelspec": {
   "display_name": "Python 3 (ipykernel)",
   "language": "python",
   "name": "python3"
  },
  "language_info": {
   "codemirror_mode": {
    "name": "ipython",
    "version": 3
   },
   "file_extension": ".py",
   "mimetype": "text/x-python",
   "name": "python",
   "nbconvert_exporter": "python",
   "pygments_lexer": "ipython3",
   "version": "3.8.10"
  }
 },
 "nbformat": 4,
 "nbformat_minor": 5
}
