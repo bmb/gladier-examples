{
 "cells": [
  {
   "cell_type": "markdown",
   "metadata": {},
   "source": [
    "# Server Check\n",
    "\n",
    "This notebook checks the version of a server based on UUID"
   ]
  },
  {
   "cell_type": "code",
   "execution_count": null,
   "metadata": {},
   "outputs": [],
   "source": [
    "import funcx\n",
    "from funcx.sdk.client import FuncXClient\n",
    "from time import sleep"
   ]
  },
  {
   "cell_type": "code",
   "execution_count": null,
   "metadata": {},
   "outputs": [],
   "source": [
    "fxc = FuncXClient()\n",
    "\n",
    "def check_server():\n",
    "    import funcx as fx \n",
    "    import funcx_endpoint as fxe\n",
    "    fxv = fx.__version__\n",
    "    fxev = fxe.__version__\n",
    "    return(fxv,fxev)\n",
    "\n",
    "check_uuid = fxc.register_function(check_server)\n",
    "\n",
    "def check_ep(endpoint_id):\n",
    "    res = fxc.run(endpoint_id=endpoint_id, function_id=check_uuid)\n",
    "    sleep(3)\n",
    "    version =fxc.get_result(res)\n",
    "    print('EP Funcx Version = ' + version[0])\n",
    "    print('EP Funcx-Endpoint Version = ' + version[1])\n",
    "    return\n"
   ]
  },
  {
   "cell_type": "code",
   "execution_count": null,
   "metadata": {},
   "outputs": [],
   "source": [
    "tutorial_endpoint = '69378dfb-53e1-4ad4-adc9-ced8082730f9'\n",
    "##\n",
    "print('Local funcx version = ' + funcx.__version__)\n",
    "## \n",
    "check_ep(tutorial_endpoint)"
   ]
  },
  {
   "cell_type": "code",
   "execution_count": null,
   "metadata": {},
   "outputs": [],
   "source": []
  }
 ],
 "metadata": {
  "kernelspec": {
   "name": "python3",
   "display_name": "Python 3.8.5 64-bit ('base': conda)"
  },
  "language_info": {
   "codemirror_mode": {
    "name": "ipython",
    "version": 3
   },
   "file_extension": ".py",
   "mimetype": "text/x-python",
   "name": "python",
   "nbconvert_exporter": "python",
   "pygments_lexer": "ipython3",
   "version": "3.8.5"
  },
  "interpreter": {
   "hash": "ae872624f69e1333662886b6f56d58bf2a58cd22869808144d82680e07de5fc8"
  }
 },
 "nbformat": 4,
 "nbformat_minor": 4
}