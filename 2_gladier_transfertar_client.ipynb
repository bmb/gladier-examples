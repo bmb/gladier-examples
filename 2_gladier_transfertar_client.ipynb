{
 "metadata": {
  "language_info": {
   "codemirror_mode": {
    "name": "ipython",
    "version": 3
   },
   "file_extension": ".py",
   "mimetype": "text/x-python",
   "name": "python",
   "nbconvert_exporter": "python",
   "pygments_lexer": "ipython3",
   "version": "3.8.5"
  },
  "orig_nbformat": 2,
  "kernelspec": {
   "name": "python3",
   "display_name": "Python 3.8.5 64-bit ('base': conda)"
  },
  "interpreter": {
   "hash": "ae872624f69e1333662886b6f56d58bf2a58cd22869808144d82680e07de5fc8"
  }
 },
 "nbformat": 4,
 "nbformat_minor": 2,
 "cells": [
  {
   "cell_type": "code",
   "execution_count": null,
   "metadata": {},
   "outputs": [],
   "source": [
    "##General Imports\n",
    "from pprint import pprint\n",
    "import  os\n",
    "\n",
    "##Gladier Imports\n",
    "from gladier import GladierBaseClient, GladierBaseTool, generate_flow_definition\n",
    "\n",
    "##Globus automate variable for Binder\n",
    "os.environ['SSH_TTY'] = 'BINDER_REMOTE'"
   ]
  },
  {
   "source": [
    "## Creating the Client"
   ],
   "cell_type": "markdown",
   "metadata": {}
  },
  {
   "cell_type": "code",
   "execution_count": null,
   "metadata": {},
   "outputs": [],
   "source": [
    "@generate_flow_definition\n",
    "class Example_Client(GladierBaseClient):\n",
    "    gladier_tools = [\n",
    "        'gladier_tools.globus.Transfer', ##Note that the gladier client will import the tools by itself given a dotted path \n",
    "        'gladier_tools.posix.Tar',\n",
    "    ]\n",
    "\n",
    "exampleClient = Example_Client()\n"
   ]
  },
  {
   "source": [
    "## General Variables\n",
    "Those are the execution variables that will be used to create the payload for the flow"
   ],
   "cell_type": "markdown",
   "metadata": {}
  },
  {
   "cell_type": "code",
   "execution_count": null,
   "metadata": {},
   "outputs": [],
   "source": [
    "single = os.path.join(os.getcwd(),myfile)\n",
    "\n",
    "if not os.path.isfile(single):\n",
    "    with open(single,\"w\") as file1:\n",
    "        file1.writelines([\"Gladier \\n\",\"Is \\n\",\"Awesome Sauce \\n\"])\n",
    "\n",
    "##parse dirs\n",
    "local_file = os.path.basename(single)\n",
    "local_dir = os.path.dirname(single)\n",
    "\n",
    "dest_file = ''\n",
    "dest_dir = '/home/ubuntu/demo'\n",
    "\n",
    "##Remote endpoints\n",
    "dest_funcx_endpoint = 'a694a32d-8707-4884-b205-3cfc87c4f667'\n",
    "dest_globus_endpoint='2e9e85d0-c4ad-11eb-87e2-559da91cd9a3'\n"
   ]
  },
  {
   "source": [
    "## Flow Input\n",
    "This is the payload that will be transfered at the beggining of the flow. The variable names should match the necessary variables inside the flow."
   ],
   "cell_type": "markdown",
   "metadata": {}
  },
  {
   "cell_type": "code",
   "execution_count": null,
   "metadata": {},
   "outputs": [],
   "source": [
    "base_input = {\n",
    "    \"input\": {\n",
    "        #Processing variables\n",
    "        \"transfer_source_path\": os.path.join(local_dir,local_file),\n",
    "        \"transfer_destination_path\": os.path.join(dest_dir,local_file),\n",
    "        \"tar_input\": os.path.join(dest_dir,local_file),\n",
    "\n",
    "        'transfer_recursive': False,\n",
    "\n",
    "        # funcX endpoints\n",
    "        \"funcx_endpoint_compute\": dest_funcx_endpoint,\n",
    "\n",
    "        # globus endpoints\n",
    "        \"transfer_source_endpoint_id\": local_globus_endpoint,\n",
    "        \"transfer_destination_endpoint_id\": dest_globus_endpoint, \n",
    "    }\n",
    "}\n",
    "\n",
    "pprint(base_input)"
   ]
  },
  {
   "source": [
    "## Running the flow"
   ],
   "cell_type": "markdown",
   "metadata": {}
  },
  {
   "cell_type": "code",
   "execution_count": null,
   "metadata": {},
   "outputs": [],
   "source": [
    "example_flow = exampleClient.run_flow(flow_input=base_input)\n",
    "print(\"  File : \" + base_input[\"input\"][\"transfer_source_path\"])\n",
    "print(\"  UUID : \" + example_flow['action_id'])"
   ]
  },
  {
   "cell_type": "code",
   "execution_count": null,
   "metadata": {},
   "outputs": [],
   "source": []
  }
 ]
}