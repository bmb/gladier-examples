{
 "metadata": {
  "language_info": {
   "codemirror_mode": {
    "name": "ipython",
    "version": 3
   },
   "file_extension": ".py",
   "mimetype": "text/x-python",
   "name": "python",
   "nbconvert_exporter": "python",
   "pygments_lexer": "ipython3",
   "version": "3.8.5"
  },
  "orig_nbformat": 2,
  "kernelspec": {
   "name": "python3",
   "display_name": "Python 3.8.5 64-bit ('funcx': conda)"
  },
  "interpreter": {
   "hash": "29c7d61c0b705a1e0ee1ff93d2482337e8314a272648cd14c87bbb9c779684f0"
  }
 },
 "nbformat": 4,
 "nbformat_minor": 2,
 "cells": [
  {
   "cell_type": "markdown",
   "source": [
    "# Gladier Tutorial\r\n",
    "### Gladier: The Globus Architecture for Data-Intensive Experimental Research.\r\n",
    "\r\n",
    "Gladier is a programmable data capture, storage, and analysis architecture for experimental facilities. The architecture leverages a data and computing substrate based on agents deployed across computer and storage systems at APS, ALCF, and elsewhere, all managed by cloud-hosted Globus services. In particular, we leverage [Globus Connect](https://www.globus.org/globus-connect)\r\n",
    "and [funcX](https://funcx.org) agents to facilitate secure, reliable remote data and computation and employ the [Globus Flows](https://www.globus.org/platform/services/flows) platform to orchestrate distributed data management tasks into reliable pipelines.\r\n",
    "\r\n",
    "## Gladier Toolkit\r\n",
    "The Gladier toolkit provides tools and capabilities to simplify and accelerate the development of these automations. The toolkit manages the dynamic creation of flows, automatically registers funcX functions, and assists in validating inputs. \r\n",
    "\r\n",
    "Here we demonstrate how the Gladier toolkit can be used to let anyone create a simple, yet powerful client to automate data management tasks.\r\n",
    "\r\n",
    "While not necessary to use this notebook, the Gladier toolkit is available on pypi and can be installed with:\r\n",
    "\r\n",
    "    $ pip install gladier\r\n",
    "\r\n",
    "Documentation is available [here.](https://gladier.readthedocs.io/en/latest/index.html)\r\n"
   ],
   "metadata": {}
  },
  {
   "cell_type": "code",
   "execution_count": null,
   "source": [
    "##General Imports\r\n",
    "from pprint import pprint\r\n",
    "import  os\r\n",
    "import json\r\n",
    "\r\n",
    "##Gladier Imports\r\n",
    "from gladier import GladierBaseClient, GladierBaseTool, generate_flow_definition\r\n",
    "\r\n",
    "##Globus automate variable for Binder\r\n",
    "os.environ['SSH_TTY'] = 'BINDER_REMOTE'"
   ],
   "outputs": [],
   "metadata": {}
  },
  {
   "cell_type": "markdown",
   "source": [
    "## Creating the Client"
   ],
   "metadata": {}
  },
  {
   "cell_type": "code",
   "execution_count": null,
   "source": [
    "@generate_flow_definition\r\n",
    "class Example_Client(GladierBaseClient):\r\n",
    "    gladier_tools = [\r\n",
    "        'gladier_tools.globus.Transfer', ##Note that the gladier client will import the tools by itself given a dotted path \r\n",
    "        'gladier_tools.posix.Tar',\r\n",
    "    ]\r\n",
    "\r\n",
    "exampleClient = Example_Client()\r\n"
   ],
   "outputs": [],
   "metadata": {}
  },
  {
   "cell_type": "markdown",
   "source": [
    "## General Variables\n",
    "Those are the execution variables that will be used to create the payload for the flow"
   ],
   "metadata": {}
  },
  {
   "cell_type": "code",
   "execution_count": null,
   "source": [
    "##local inputs\r\n",
    "localpath = 'c:\\\\'\r\n",
    "myfile = 'awesome.sauce'\r\n",
    "local_globus_endpoint = 'YOUR_ENDPOINT_UUID_GOES_HERE'\r\n",
    "\r\n",
    "single = os.path.join(myfile) # make sure the file exists on your machine\r\n",
    "\r\n",
    "# if not os.path.isfile(single):\r\n",
    "#     with open(single,\"w\") as file1:\r\n",
    "#         file1.writelines([\"Gladier \\n\",\"Is \\n\",\"Awesome Sauce \\n\"])\r\n",
    "\r\n",
    "##parse dirs\r\n",
    "local_file = os.path.basename(single)\r\n",
    "local_dir = os.path.dirname(single)\r\n",
    "\r\n",
    "dest_file = ''\r\n",
    "dest_dir = '/home/ubuntu/demo'\r\n",
    "\r\n",
    "##Remote endpoints\r\n",
    "dest_funcx_endpoint = '69378dfb-53e1-4ad4-adc9-ced8082730f9'\r\n",
    "dest_globus_endpoint= '2e9e85d0-c4ad-11eb-87e2-559da91cd9a3'\r\n"
   ],
   "outputs": [],
   "metadata": {}
  },
  {
   "cell_type": "markdown",
   "source": [
    "## Flow Input\n",
    "This is the payload that will be transfered at the beggining of the flow. The variable names should match the necessary variables inside the flow."
   ],
   "metadata": {}
  },
  {
   "cell_type": "code",
   "execution_count": null,
   "source": [
    "base_input = {\r\n",
    "    \"input\": {\r\n",
    "        #Processing variables\r\n",
    "        \"transfer_source_path\": os.path.join(local_dir,local_file),\r\n",
    "        \"transfer_destination_path\": os.path.join(dest_dir,local_file),\r\n",
    "        \"tar_input\": os.path.join(dest_dir,local_file),\r\n",
    "\r\n",
    "        'transfer_recursive': False,\r\n",
    "\r\n",
    "        # funcX endpoints\r\n",
    "        \"funcx_endpoint_compute\": dest_funcx_endpoint,\r\n",
    "\r\n",
    "        # globus endpoints\r\n",
    "        \"transfer_source_endpoint_id\": local_globus_endpoint,\r\n",
    "        \"transfer_destination_endpoint_id\": dest_globus_endpoint, \r\n",
    "    }\r\n",
    "}\r\n",
    "\r\n",
    "print(json.dumps(base_input, indent = 2)) ## notice this input can be used directly on automate website."
   ],
   "outputs": [],
   "metadata": {}
  },
  {
   "cell_type": "markdown",
   "source": [
    "## Running the flow"
   ],
   "metadata": {}
  },
  {
   "cell_type": "code",
   "execution_count": null,
   "source": [
    "run_label = 'GladierTest_v2'\r\n",
    "\r\n",
    "example_flow = exampleClient.run_flow(flow_input=base_input, label=run_label)\r\n",
    "print(\"  File : \" + base_input[\"input\"][\"transfer_source_path\"])\r\n",
    "print(\"  UUID : \" + example_flow['action_id'])"
   ],
   "outputs": [],
   "metadata": {}
  },
  {
   "cell_type": "markdown",
   "source": [
    "## Monitoring the flow Progress"
   ],
   "metadata": {}
  },
  {
   "cell_type": "code",
   "execution_count": null,
   "source": [
    "\r\n",
    "exampleClient.progress(example_flow['action_id'])\r\n"
   ],
   "outputs": [],
   "metadata": {}
  },
  {
   "cell_type": "markdown",
   "source": [
    "\r\n",
    "## Getting the flow results \r\n",
    "We can access the results of each step of the run.\r\n"
   ],
   "metadata": {}
  },
  {
   "cell_type": "code",
   "execution_count": null,
   "source": [
    "\r\n",
    "exampleClient.get_details(example_flow['action_id'], 'Tar')\r\n"
   ],
   "outputs": [],
   "metadata": {}
  },
  {
   "cell_type": "markdown",
   "source": [
    "## Accessing the logs \r\n"
   ],
   "metadata": {}
  },
  {
   "cell_type": "code",
   "execution_count": null,
   "source": [
    "print('https://app.globus.org/flows/%s/runs/%s' % (example_flow['flow_id'],example_flow['action_id']))"
   ],
   "outputs": [],
   "metadata": {}
  }
 ]
}